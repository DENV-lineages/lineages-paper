{
 "cells": [
  {
   "cell_type": "code",
   "execution_count": 1,
   "id": "7caf9b42",
   "metadata": {},
   "outputs": [],
   "source": [
    "import csv\n",
    "from collections import defaultdict\n",
    "from collections import Counter\n",
    "import dendropy\n",
    "from Bio import SeqIO\n",
    "import tqdm \n",
    "import random"
   ]
  },
  {
   "cell_type": "code",
   "execution_count": 2,
   "id": "e5d806dc",
   "metadata": {},
   "outputs": [],
   "source": [
    "serotypes = [\"DENV1\", \"DENV2\", \"DENV3\", \"DENV4\"]"
   ]
  },
  {
   "cell_type": "code",
   "execution_count": 14,
   "id": "9dff9f05",
   "metadata": {},
   "outputs": [],
   "source": [
    "minor_lineages = defaultdict(list)\n",
    "major_lineages = defaultdict(list)\n",
    "genotypes = defaultdict(list)\n",
    "coverage = {}\n",
    "in_minors = set()\n",
    "in_majors = set()\n",
    "with open(\"sequence_metadata.csv\") as f:\n",
    "    data = csv.DictReader(f)\n",
    "    for l in data:\n",
    "        \n",
    "        if l['minor_lineage'] != \"\":\n",
    "            in_minors.add(l['fasta_name'])\n",
    "            minor_parts = l['minor_lineage'].split(\".\")\n",
    "            if len(minor_parts) > 2:\n",
    "                previous = minor_parts[0]\n",
    "                for number in minor_parts[1:]:\n",
    "                    current = f\"{previous}.{number}\"\n",
    "                    minor_lineages[current].append(l['fasta_name'])\n",
    "                    previous = current\n",
    "            else:\n",
    "                minor_lineages[l[\"minor_lineage\"]].append(l['fasta_name'])\n",
    "\n",
    "                    \n",
    "        \n",
    "        if l['major_lineage'] != \"\":\n",
    "            major_lineages[l['major_lineage']].append(l['fasta_name'])\n",
    "            in_majors.add(l['fasta_name'])\n",
    "        if l['genotype'] != \"Unassigned\":\n",
    "            genotypes[l['genotype']].append(l['fasta_name'])\n",
    "            \n",
    "        coverage[l['fasta_name']] = l['trimmed_coverage']"
   ]
  },
  {
   "cell_type": "code",
   "execution_count": 15,
   "id": "30758d81",
   "metadata": {},
   "outputs": [],
   "source": [
    "total_minor = list(minor_lineages.keys())\n",
    "total_major = list(major_lineages.keys())\n",
    "total_genotype = list(genotypes.keys())\n"
   ]
  },
  {
   "cell_type": "code",
   "execution_count": 16,
   "id": "62f4ef8f",
   "metadata": {},
   "outputs": [],
   "source": [
    "tree_dict={}\n",
    "for sero in [\"DENV1\", \"DENV2\", \"DENV3\", \"DENV4\"]:\n",
    "    tree_dict[sero] = dendropy.Tree.get(path=f\"{sero}.tree\", schema=\"nexus\", preserve_underscores=True)"
   ]
  },
  {
   "cell_type": "code",
   "execution_count": null,
   "id": "f2ff7d50",
   "metadata": {},
   "outputs": [],
   "source": [
    "for sero in serotypes:\n",
    "    print(sero)\n",
    "    tree = dendropy.Tree.get(path=f\"{sero}.tree\", schema=\"nexus\", preserve_underscores=True)\n",
    "    print(\"tree in\")\n",
    "    matrix = dendropy.PhylogeneticDistanceMatrix.from_tree(tree)\n",
    "    \n",
    "    matrix.write_csv(f\"{sero}_distance_matrix.csv\")\n"
   ]
  },
  {
   "cell_type": "code",
   "execution_count": null,
   "id": "7c5e0dd1",
   "metadata": {},
   "outputs": [],
   "source": [
    "distances_from_root = defaultdict(dict)\n",
    "for sero in serotypes:\n",
    "    inner_dict = {}\n",
    "    print(sero)\n",
    "    tree = dendropy.Tree.get(path=f\"{sero}.tree\", schema=\"nexus\", preserve_underscores=True)\n",
    "    for leaf in tqdm.tqdm(tree.leaf_node_iter()):\n",
    "        inner_dict[leaf.taxon.label] = leaf.distance_from_root()\n",
    "        \n",
    "    distances_from_root[sero] = inner_dict"
   ]
  },
  {
   "cell_type": "code",
   "execution_count": null,
   "id": "58cd0f07",
   "metadata": {},
   "outputs": [],
   "source": [
    "def get_largest_dist_pairs(already_in, seq_list, distances):\n",
    "    \n",
    "    to_test = []\n",
    "    for i in seq_list:\n",
    "        if i not in already_in:\n",
    "            to_test.append(i)\n",
    "            \n",
    "    new_distances = {}\n",
    "    for i in already_in:\n",
    "        for j in to_test:\n",
    "            if ((i,j)) in distances:\n",
    "                key = ((i,j))\n",
    "            else:\n",
    "                key = ((j,i))\n",
    "                \n",
    "            if j not in new_distances:\n",
    "                new_distances[j] = distances[key]\n",
    "            else:\n",
    "                new_distances[j] += distances[key]\n",
    "                \n",
    "    new_seq = list({k:v for k,v in sorted(new_distances.items(), key = lambda x: x[1], reverse=True)})[0]\n",
    "    already_in.add(new_seq)\n",
    "    \n",
    "    if len(already_in) < 5:\n",
    "        get_largest_dist_pairs(already_in, seq_list, distances)\n",
    "        return already_in\n",
    "    else:\n",
    "        return already_in"
   ]
  },
  {
   "cell_type": "code",
   "execution_count": 18,
   "id": "4ceb9bb6",
   "metadata": {},
   "outputs": [],
   "source": [
    "def get_sets(lineage_list, sero):\n",
    "    \n",
    "    distances = {}\n",
    "    done = set()\n",
    "    with open(f\"{sero}_distance_matrix.csv\") as f:\n",
    "        data = csv.DictReader(f)\n",
    "        headers = data.fieldnames\n",
    "        for l in data:\n",
    "            seq = l['sequence']\n",
    "            if l['sequence'] in lineage_list:\n",
    "                for seq2 in headers:\n",
    "                    if seq2 != \"sequence\" and seq2 in lineage_list:\n",
    "                        pair = ((seq,seq2))\n",
    "                        if pair not in done:\n",
    "                            distances[pair] = float(l[seq2])  \n",
    "                            done.add(pair)\n",
    "                            done.add((seq2,seq))  \n",
    "                            \n",
    "    first_pair = list({k:v for k,v in sorted(distances.items(), key = lambda x: x[1], reverse=True)})[0]\n",
    "    already_in = set()\n",
    "    for i in first_pair:\n",
    "        already_in.add(i)\n",
    "    final_set = get_largest_dist_pairs(already_in, lineage_list, distances)\n",
    "    \n",
    "    return final_set\n",
    "        \n",
    "        "
   ]
  },
  {
   "cell_type": "markdown",
   "id": "5dbad983",
   "metadata": {},
   "source": [
    "## major and genotypes"
   ]
  },
  {
   "cell_type": "code",
   "execution_count": 36,
   "id": "8f9843d8",
   "metadata": {
    "scrolled": true
   },
   "outputs": [
    {
     "name": "stderr",
     "output_type": "stream",
     "text": [
      "100%|█████████████████████████████████████████████████████████████████████████████████████████████████████████████████████████████████████████████████████████████| 51/51 [05:33<00:00,  6.54s/it]\n"
     ]
    }
   ],
   "source": [
    "major_lin_sets = defaultdict(set)\n",
    "\n",
    "for lin, seq_list in tqdm.tqdm(major_lineages.items()):\n",
    "    serotype = f\"DENV{lin[0]}\"\n",
    "    if len(seq_list) > 5:\n",
    "        new_seq_list = set([x for x in seq_list if float(coverage[x]) >= 0.9])\n",
    "        if len(new_seq_list) > 5:\n",
    "            major_lin_sets[lin] = get_sets(new_seq_list, serotype)\n",
    "        else:\n",
    "            major_lin_sets[lin] = set(new_seq_list)\n",
    "    else:\n",
    "        major_lin_sets[lin] = set(seq_list)\n",
    "\n",
    "\n",
    "    tree = tree_dict[serotype]\n",
    "    mrca = tree.mrca(taxon_labels=seq_list)\n",
    "    found_sequence = False\n",
    "    for i in mrca.child_nodes():\n",
    "        if i.taxon:\n",
    "            basal = i.taxon.label\n",
    "            found_sequence = True\n",
    "            \n",
    "    if not found_sequence:\n",
    "        dist_dict = {x:distances_from_root[serotype][x] for x in major_lineages[lin]}\n",
    "        basal = min(dist_dict, key=dist_dict.get)\n",
    "\n",
    "    major_lin_sets[lin].add(basal)\n",
    "    "
   ]
  },
  {
   "cell_type": "code",
   "execution_count": 37,
   "id": "258a11fd",
   "metadata": {},
   "outputs": [],
   "source": [
    "with open(\"representatives_major_lineage.csv\", 'w') as fw:\n",
    "    \n",
    "    fw.write('taxon,major_lineage\\n')\n",
    "    \n",
    "    for k,v in major_lin_sets.items():\n",
    "        for i in v:\n",
    "            fw.write(f\"{i},{k}\\n\")"
   ]
  },
  {
   "cell_type": "code",
   "execution_count": 38,
   "id": "84b72cfe",
   "metadata": {},
   "outputs": [
    {
     "name": "stderr",
     "output_type": "stream",
     "text": [
      "100%|█████████████████████████████████████████████████████████████████████████████████████████████████████████████████████████████████████████████████████████████| 20/20 [13:37<00:00, 40.85s/it]\n"
     ]
    }
   ],
   "source": [
    "genotype_sets = defaultdict(set)\n",
    "\n",
    "fw = open(\"representatives_genotype.csv\", 'w')\n",
    "fw.write('taxon,genotype\\n')\n",
    "fw.close()\n",
    "\n",
    "for lin, seq_list in tqdm.tqdm(genotypes.items()):\n",
    "    serotype = f\"DENV{lin[0]}\"\n",
    "    if len(seq_list) > 5:\n",
    "        new_seq_list = [x for x in seq_list if float(coverage[x]) >= 0.9]\n",
    "        if len(new_seq_list) > 5:\n",
    "            genotype_sets[lin] = get_sets(new_seq_list, serotype)\n",
    "        else:\n",
    "            genotype_sets[lin] = set(new_seq_list)\n",
    "    else:\n",
    "        genotype_sets[lin] = set(seq_list)\n",
    "    \n",
    "        \n",
    "    tree = tree_dict[serotype]\n",
    "    mrca = tree.mrca(taxon_labels=seq_list)\n",
    "    found_sequence = False\n",
    "    for i in mrca.child_nodes():\n",
    "        if i.taxon:\n",
    "            basal = i.taxon.label\n",
    "            found_sequence = True\n",
    "    \n",
    "    if not found_sequence:\n",
    "        dist_dict = {x:distances_from_root[serotype][x] for x in genotypes[lin]}\n",
    "        basal = min(dist_dict, key=dist_dict.get)\n",
    "    \n",
    "    genotype_sets[lin].add(basal)\n",
    "\n",
    "\n",
    "    with open(\"representatives_genotype.csv\", 'a') as fw:\n",
    "        for i in genotype_sets[lin]:\n",
    "            fw.write(f\"{i},{lin}\\n\")"
   ]
  },
  {
   "cell_type": "code",
   "execution_count": 39,
   "id": "fcb3fb1c",
   "metadata": {},
   "outputs": [],
   "source": [
    "## make alignments and annotations files\n",
    "\n",
    "geno_seq_names = defaultdict(list)\n",
    "with open(\"representatives_genotype.csv\") as f:\n",
    "    data = csv.DictReader(f)\n",
    "    for l in data:\n",
    "        sero = f\"DENV{l['genotype'][0]}\"\n",
    "        geno_seq_names[sero].append(l['taxon'])\n",
    "\n",
    "major_seq_names = defaultdict(list)\n",
    "with open(\"representatives_major_lineage.csv\") as f:\n",
    "    data = csv.DictReader(f)\n",
    "    for l in data:\n",
    "        sero = f\"DENV{l['major_lineage'][0]}\"\n",
    "        major_seq_names[sero].append(l['taxon'])\n",
    "\n",
    "        \n",
    "for sero, names in major_seq_names.items():\n",
    "    new_aln = open(f\"{sero}_major_lineage.fasta\",'w')\n",
    "    for seq in SeqIO.parse(f\"{sero}_final.fasta\", \"fasta\"):\n",
    "        if seq.id in names:\n",
    "            SeqIO.write(seq, new_aln, \"fasta\")\n",
    "            \n",
    "    new_aln.close()\n",
    "    \n",
    "for sero, names in geno_seq_names.items():\n",
    "    new_aln = open(f\"{sero}_genotype.fasta\",'w')\n",
    "    for seq in SeqIO.parse(f\"{sero}_final.fasta\", \"fasta\"):\n",
    "        if seq.id in names:\n",
    "            SeqIO.write(seq, new_aln, \"fasta\")\n",
    "            \n",
    "    new_aln.close()\n",
    "    \n",
    "fw = open(\"representative_annotations.tsv\", 'w')\n",
    "fw.write(\"taxon\\trepresentative\\n\")\n",
    "\n",
    "with open(\"representatives_major_lineage.csv\") as f:\n",
    "    data = csv.DictReader(f)\n",
    "    for l in data:\n",
    "        fw.write(f\"{l['taxon']}\\t1\\n\")\n",
    "        \n",
    "fw.close()\n"
   ]
  },
  {
   "cell_type": "markdown",
   "id": "df2b0a4f",
   "metadata": {},
   "source": [
    "## minor lins"
   ]
  },
  {
   "cell_type": "code",
   "execution_count": 20,
   "id": "516444bf",
   "metadata": {},
   "outputs": [
    {
     "name": "stderr",
     "output_type": "stream",
     "text": [
      "100%|█████████████████████████████████████████████████████████████████████████████████████████████████████████████████████████████████████████████████████████████| 65/65 [06:11<00:00,  5.72s/it]\n"
     ]
    }
   ],
   "source": [
    "minor_lin_sets = defaultdict(set)\n",
    "\n",
    "for lin, seq_list in tqdm.tqdm(minor_lineages.items()):\n",
    "    serotype = f\"DENV{lin[0]}\"\n",
    "    if len(seq_list) > 5:\n",
    "        new_seq_list = [x for x in seq_list if float(coverage[x]) >= 0.9]\n",
    "        if len(new_seq_list) > 5:\n",
    "            minor_lin_sets[lin] = get_sets(new_seq_list, serotype)\n",
    "        else:\n",
    "            minor_lin_sets[lin] = set(new_seq_list)\n",
    "    else:\n",
    "        minor_lin_sets[lin] = set(seq_list)\n",
    "    \n",
    "        \n",
    "    tree = tree_dict[serotype]\n",
    "    mrca = tree.mrca(taxon_labels=seq_list)\n",
    "    found_sequence = False\n",
    "    for i in mrca.child_nodes():\n",
    "        if i.taxon:\n",
    "            basal = i.taxon.label\n",
    "            found_sequence = True\n",
    "    \n",
    "    if not found_sequence:\n",
    "        dist_dict = {x:distances_from_root[serotype][x] for x in minor_lin_sets[lin]}\n",
    "        basal = min(dist_dict, key=dist_dict.get)\n",
    "    \n",
    "    minor_lin_sets[lin].add(basal)\n"
   ]
  },
  {
   "cell_type": "code",
   "execution_count": 26,
   "id": "f934e934",
   "metadata": {},
   "outputs": [],
   "source": [
    "with open(\"representatives_minor_lineage.csv\", 'w') as fw:\n",
    "    \n",
    "    fw.write('taxon,minor_lineage\\n')\n",
    "    \n",
    "    for k,v in minor_lin_sets.items():\n",
    "        for i in v:\n",
    "            fw.write(f\"{i},{k}\\n\")"
   ]
  },
  {
   "cell_type": "code",
   "execution_count": 42,
   "id": "1e7095e3",
   "metadata": {},
   "outputs": [],
   "source": [
    "minor_seq_names = defaultdict(list)\n",
    "with open(\"representatives_minor_lineage.csv\") as f:\n",
    "    data = csv.DictReader(f)\n",
    "    for l in data:\n",
    "        sero = f\"DENV{l['minor_lineage'][0]}\"\n",
    "        minor_seq_names[sero].append(l['taxon'])\n",
    "        \n",
    "for sero, names in minor_seq_names.items():\n",
    "    new_aln = open(f\"{sero}_minor_lineage.fasta\",'w')\n",
    "    for seq in SeqIO.parse(f\"{sero}_final.fasta\", \"fasta\"):\n",
    "        if seq.id in names:\n",
    "            SeqIO.write(seq, new_aln, \"fasta\")\n",
    "            \n",
    "    new_aln.close()"
   ]
  }
 ],
 "metadata": {
  "kernelspec": {
   "display_name": "Python 3 (ipykernel)",
   "language": "python",
   "name": "python3"
  },
  "language_info": {
   "codemirror_mode": {
    "name": "ipython",
    "version": 3
   },
   "file_extension": ".py",
   "mimetype": "text/x-python",
   "name": "python",
   "nbconvert_exporter": "python",
   "pygments_lexer": "ipython3",
   "version": "3.9.16"
  }
 },
 "nbformat": 4,
 "nbformat_minor": 5
}
