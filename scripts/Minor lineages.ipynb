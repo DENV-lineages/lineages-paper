{
 "cells": [
  {
   "cell_type": "code",
   "execution_count": 1,
   "id": "d90df820",
   "metadata": {},
   "outputs": [],
   "source": [
    "import dendropy\n",
    "import csv\n",
    "import baltic as bt\n",
    "from collections import defaultdict\n",
    "import matplotlib.pyplot as plt\n",
    "import numpy as np"
   ]
  },
  {
   "cell_type": "markdown",
   "id": "eb0dd357",
   "metadata": {},
   "source": [
    "This script generates new minor lineage designations based on the current defining rules. It will pull out all possible minor lineage designations in the annotated tree. It does NOT take old names into account, so when suggesting new lineages, please take these lineages and check what their names will be based onw hat has already been used.\n",
    "\n",
    "The input is a tree annotated in nexus format with major lineages and genotypes. The output is an annotated tree and TSV file."
   ]
  },
  {
   "cell_type": "code",
   "execution_count": 2,
   "id": "e663ff97",
   "metadata": {},
   "outputs": [],
   "source": [
    "min_distance = 25\n",
    "min_size = 15\n",
    "\n",
    "genotype_annotation = \"new_genotype\"\n",
    "major_lineage_annotation = \"major_lineage\"\n",
    "\n",
    "annotated_tree = \"\""
   ]
  },
  {
   "cell_type": "code",
   "execution_count": 3,
   "id": "41a73e6c",
   "metadata": {},
   "outputs": [],
   "source": [
    "def find_genotype_defining(tree):\n",
    "    \n",
    "    defining_nodes = []\n",
    "    \n",
    "    for node in tree.preorder_node_iter():\n",
    "        genotype = node.annotations[genotype_annotation].value\n",
    "        if node != tree.seed_node:\n",
    "            parent_genotype = node.parent_node.annotations[genotype_annotation].value\n",
    "            if genotype != parent_genotype:\n",
    "                defining_nodes.append(node)\n",
    "            \n",
    "    return defining_nodes\n",
    "\n",
    "def find_major_lineage_defining(tree):\n",
    "    \n",
    "    defining_nodes = []\n",
    "    \n",
    "    for node in tree.preorder_node_iter():\n",
    "        major_lin = node.annotations[major_lineage_annotation].value\n",
    "        if node != tree.seed_node:\n",
    "            parent_lin = node.parent_node.annotations[major_lineage_annotation].value\n",
    "            if major_lin != parent_lin:\n",
    "                defining_nodes.append(node)\n",
    "            \n",
    "    return defining_nodes"
   ]
  },
  {
   "cell_type": "code",
   "execution_count": 4,
   "id": "69036919",
   "metadata": {},
   "outputs": [],
   "source": [
    "def annotate_tree(focal_node, annotation):\n",
    "    \n",
    "    focal_node.annotations[\"minor_lineage\"].value = f'\"{annotation}\"'\n",
    "    \n",
    "    for node in focal_node.child_nodes():\n",
    "        annotate_tree(node, annotation)\n",
    "\n",
    "    return"
   ]
  },
  {
   "cell_type": "code",
   "execution_count": 5,
   "id": "21c1b695",
   "metadata": {},
   "outputs": [],
   "source": [
    "def find_path(node, path):\n",
    "    \n",
    "    path.append(node)\n",
    "    if node != tree.seed_node:\n",
    "        find_path(node.parent_node, path)\n",
    "    else:\n",
    "        return path\n",
    "    \n",
    "    return path"
   ]
  },
  {
   "cell_type": "code",
   "execution_count": 6,
   "id": "6733a4a0",
   "metadata": {},
   "outputs": [],
   "source": [
    "def generate_groups(tree, sero):\n",
    "    \n",
    "    meet_threshold = defaultdict(list)\n",
    "    distances = {}\n",
    "\n",
    "    genotype_nodes = find_genotype_defining(tree)\n",
    "    major_lin_nodes = find_major_lineage_defining(tree)\n",
    "    \n",
    "    for node in tree.preorder_node_iter():\n",
    "        if \"_\" in node.annotations[major_lineage_annotation].value:\n",
    "            major_lineage = node.annotations[major_lineage_annotation].value\n",
    "            distance = (node.edge_length*aln_lengths[sero])\n",
    "            size = (len(node.leaf_nodes()))\n",
    "\n",
    "            if distance >= min_distance and size >= min_size:\n",
    "                if node not in genotype_nodes and node not in major_lin_nodes:\n",
    "                    meet_threshold[major_lineage].append(node)\n",
    "                    distances[node] = distance\n",
    "\n",
    "        \n",
    "    paths_to_root = defaultdict(dict)\n",
    "    for major_lineage, node_list in meet_threshold.items():\n",
    "        for node in node_list:\n",
    "            path = []\n",
    "            paths_to_root[major_lineage][node] = find_path(node, path)\n",
    "            \n",
    "    return meet_threshold, distances, paths_to_root, major_lin_nodes\n",
    "    \n",
    "    "
   ]
  },
  {
   "cell_type": "code",
   "execution_count": 7,
   "id": "c13b69d5",
   "metadata": {},
   "outputs": [],
   "source": [
    "def get_levels(paths_to_root):\n",
    "    node_to_level = {}\n",
    "    major_lins_levels = defaultdict(dict)\n",
    "    \n",
    "    for major_lineage, minor_lineage_paths in paths_to_root.items():\n",
    "        major_lins_levels[major_lineage] = defaultdict(list)\n",
    "        for key_node, path in minor_lineage_paths.items():\n",
    "            node_to_level[key_node] = 0\n",
    "            for ancestor in path:\n",
    "                if ancestor != key_node and ancestor in minor_lineage_paths.keys():\n",
    "                    node_to_level[key_node] += 1\n",
    "                        \n",
    "    for node, level in node_to_level.items():\n",
    "        major_lins_levels[node.annotations[major_lineage_annotation].value][level].append(node)\n",
    "        \n",
    "    return major_lins_levels, node_to_level"
   ]
  },
  {
   "cell_type": "code",
   "execution_count": 8,
   "id": "c86160b2",
   "metadata": {},
   "outputs": [],
   "source": [
    "def get_parents(path, meet_threshold, major_lin_nodes):\n",
    "    \n",
    "    ancestors = set()\n",
    "    for ancestor in path:\n",
    "        if ancestor in meet_threshold:\n",
    "            ancestors.add(ancestor)\n",
    "        if ancestor in major_lin_nodes:\n",
    "            break\n",
    "    \n",
    "    return ancestors"
   ]
  },
  {
   "cell_type": "code",
   "execution_count": 9,
   "id": "cbbd50e0",
   "metadata": {},
   "outputs": [],
   "source": [
    "def find_siblings(major_lins_levels, node_to_level, paths_to_root, meet_threshold, major_lin_nodes):\n",
    "    \n",
    "    remove_list = defaultdict(list)\n",
    "    for major_lin, level_dict in major_lins_levels.items():\n",
    "        for level, node_list in level_dict.items():\n",
    "            if len(node_list) <= 1:\n",
    "                remove_list[major_lin].append(node_list[0])\n",
    "    \n",
    "    for major_lin, level_dict in major_lins_levels.items():\n",
    "        for level, node_list in level_dict.items():\n",
    "            if len(node_list) > 1:\n",
    "                for node in node_list:\n",
    "                    group = defaultdict(set)\n",
    "                    ancestor_set1 = get_parents(paths_to_root[major_lin][node], meet_threshold[major_lin], major_lin_nodes)\n",
    "                    for node2 in node_list:\n",
    "                        if node != node2:\n",
    "                            ancestor_set2 = get_parents(paths_to_root[major_lin][node2], meet_threshold[major_lin], major_lin_nodes)\n",
    "                            \n",
    "                            if len(ancestor_set1.intersection(ancestor_set2)) == level:\n",
    "                                group[node].add(node2)\n",
    "\n",
    "                    if len(group[node]) < 1:\n",
    "                        remove_list[major_lin].append(node)        \n",
    "                \n",
    "    \n",
    "    levels_to_remove = {}\n",
    "    for major_lineage, minor_lineage_paths in paths_to_root.items():\n",
    "        specific_removes = remove_list[major_lineage]\n",
    "        for key_node, path in minor_lineage_paths.items():\n",
    "            levels_to_remove[key_node] = 0\n",
    "            for ancestor in path:\n",
    "                if ancestor != key_node:\n",
    "                    if ancestor in specific_removes:\n",
    "                        levels_to_remove[key_node]  += 1\n",
    "    \n",
    "    new_levels = {}    \n",
    "    new_major_lins_levels = defaultdict(dict)\n",
    "    \n",
    "    for major_lineage in major_lins_levels.keys():\n",
    "        new_major_lins_levels[major_lineage] = defaultdict(list)\n",
    "    \n",
    "    for node, level in node_to_level.items():\n",
    "        if node not in remove_list[node.annotations[major_lineage_annotation].value]:\n",
    "            new_level = level - levels_to_remove[node]\n",
    "            new_levels[node] = new_level\n",
    "            new_major_lins_levels[node.annotations[major_lineage_annotation].value][new_level].append(node)\n",
    "\n",
    "    return new_levels, new_major_lins_levels"
   ]
  },
  {
   "cell_type": "code",
   "execution_count": 10,
   "id": "273ded85",
   "metadata": {},
   "outputs": [],
   "source": [
    "def name_lineages(major_lins_levels, paths_to_root):\n",
    "    \n",
    "    annotations = {}\n",
    "    base_to_count = {}\n",
    "    for major_lineage, level_dict in major_lins_levels.items():\n",
    "        sorted_dict = {k:v for k,v in sorted(level_dict.items())}\n",
    "        for level, node_list in sorted_dict.items():\n",
    "            for node in node_list:\n",
    "                base = major_lineage\n",
    "                for ancestor in paths_to_root[major_lineage][node]:\n",
    "                    if ancestor in annotations.keys():\n",
    "                        base = annotations[ancestor]\n",
    "                        break\n",
    "                if base in base_to_count:\n",
    "                    count = base_to_count[base]\n",
    "                else:\n",
    "                    count = 0\n",
    "                    base_to_count[base] = 0\n",
    "                base_to_count[base] += 1\n",
    "                \n",
    "                annotations[node] = f\"{base}.{count+1}\"\n",
    "                    \n",
    "    return annotations"
   ]
  },
  {
   "cell_type": "code",
   "execution_count": 11,
   "id": "5eabd962",
   "metadata": {},
   "outputs": [],
   "source": [
    "def sort_outputs(major_lins_levels, sero, paths_to_root, distances):\n",
    "\n",
    "    annotations = name_lineages(major_lins_levels, paths_to_root)\n",
    "        \n",
    "    for node in tree.preorder_node_iter():\n",
    "        if node.annotations['minor_lineage'].value == \"\":\n",
    "            node.annotations['minor_lineage'].value = node.annotations['major_lineage'].value\n",
    "        \n",
    "    annotation_set = set()\n",
    "    with open(f\"../phylo_outputs/minor_lineages/{sero}_minor_lins.csv\", 'w') as fw:\n",
    "        fw.write(\"name,mutation_number\\n\")\n",
    "        for node, annotation in annotations.items():\n",
    "            annotate_tree(node, annotation)\n",
    "    \n",
    "            fw.write(f\"{annotation},{distances[node]}\\n\")\n",
    "        \n",
    "            print(annotation, len(node.leaf_nodes()), node.edge_length*aln_lengths[f\"{sero}\"])\n",
    "            annotation_set.add(annotation)\n",
    "        \n",
    "    return tree, annotation_set"
   ]
  },
  {
   "cell_type": "code",
   "execution_count": 12,
   "id": "25631961",
   "metadata": {},
   "outputs": [],
   "source": [
    "aln_lengths = {}\n",
    "aln_lengths[\"DENV1\"] = 10179\n",
    "aln_lengths[\"DENV2\"] = 10176\n",
    "aln_lengths[\"DENV3\"] = 10173\n",
    "aln_lengths[\"DENV4\"] = 10164"
   ]
  },
  {
   "cell_type": "markdown",
   "id": "6ac9c470",
   "metadata": {},
   "source": [
    "## running"
   ]
  },
  {
   "cell_type": "code",
   "execution_count": null,
   "id": "80493ea0",
   "metadata": {
    "scrolled": true
   },
   "outputs": [],
   "source": [
    "for sero in [\"DENV1\", \"DENV2\", \"DENV3\", \"DENV4\"]:\n",
    "\n",
    "    tree = dendropy.Tree.get(path=annotated_tree, schema=\"nexus\")\n",
    "\n",
    "    meet_threshold_dict, distances, paths_to_root, major_lin_nodes = generate_groups(tree, sero)\n",
    "    major_lins_levels, node_to_level = get_levels(paths_to_root)\n",
    "        \n",
    "    new_levels, new_major_lins_levels = find_siblings(major_lins_levels, node_to_level, paths_to_root, meet_threshold_dict, major_lin_nodes)\n",
    "    \n",
    "    tree, annotation_set = sort_outputs(new_major_lins_levels, sero, paths_to_root, distances)\n",
    "   \n",
    "    tree.write(path=f\"../phylo_outputs/minor_lineages/{sero}_annotated.tree\", schema=\"nexus\")"
   ]
  },
  {
   "cell_type": "markdown",
   "id": "86249281",
   "metadata": {},
   "source": [
    "## annotations"
   ]
  },
  {
   "cell_type": "code",
   "execution_count": 15,
   "id": "a348f4f3",
   "metadata": {},
   "outputs": [],
   "source": [
    "for sero in [\"DENV1\", \"DENV2\", \"DENV3\", \"DENV4\"]:\n",
    "    \n",
    "    new = open(f\"{sero}_annotations.tsv\", 'w')\n",
    "    new.write(\"taxon\\tminor_lineage\\n\")\n",
    "    tree = dendropy.Tree.get(path=f\"{sero}_annotated_minor.tree\", schema=\"nexus\")\n",
    "    for tip in tree.leaf_node_iter():\n",
    "        new.write(f\"{tip.taxon.label}\\t{tip.annotations['minor_lineage'].value}\\n\")\n",
    "\n",
    "    new.close()"
   ]
  },
  {
   "cell_type": "code",
   "execution_count": null,
   "id": "27e2ed8d",
   "metadata": {},
   "outputs": [],
   "source": []
  }
 ],
 "metadata": {
  "kernelspec": {
   "display_name": "Python 3 (ipykernel)",
   "language": "python",
   "name": "python3"
  },
  "language_info": {
   "codemirror_mode": {
    "name": "ipython",
    "version": 3
   },
   "file_extension": ".py",
   "mimetype": "text/x-python",
   "name": "python",
   "nbconvert_exporter": "python",
   "pygments_lexer": "ipython3",
   "version": "3.9.16"
  }
 },
 "nbformat": 4,
 "nbformat_minor": 5
}
